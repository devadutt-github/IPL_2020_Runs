{
  "nbformat": 4,
  "nbformat_minor": 0,
  "metadata": {
    "colab": {
      "name": "IPL regg",
      "provenance": [],
      "collapsed_sections": []
    },
    "kernelspec": {
      "name": "python3",
      "display_name": "Python 3"
    }
  },
  "cells": [
    {
      "cell_type": "code",
      "metadata": {
        "id": "hZDAxR9MiXA4",
        "outputId": "03802870-6889-4704-db5a-968cf3729400",
        "colab": {
          "base_uri": "https://localhost:8080/",
          "height": 34
        }
      },
      "source": [
        "import pandas as pd\n",
        "import numpy as np\n",
        "import matplotlib.pyplot as plt\n",
        "\n",
        "# Make numpy values easier to read.\n",
        "np.set_printoptions(precision=3, suppress=True)\n",
        "\n",
        "import tensorflow as tf\n",
        "from tensorflow.keras import layers\n",
        "from tensorflow.keras.layers.experimental import preprocessing\n",
        "import tensorflow as tf\n",
        "from tensorflow import keras\n",
        "print(tf.__version__)\n"
      ],
      "execution_count": null,
      "outputs": [
        {
          "output_type": "stream",
          "text": [
            "2.3.0\n"
          ],
          "name": "stdout"
        }
      ]
    },
    {
      "cell_type": "code",
      "metadata": {
        "id": "p-i_Pvl6jKVw",
        "outputId": "e95e8b07-3add-4764-dc1e-215334447250",
        "colab": {
          "resources": {
            "http://localhost:8080/nbextensions/google.colab/files.js": {
              "data": "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",
              "ok": true,
              "headers": [
                [
                  "content-type",
                  "application/javascript"
                ]
              ],
              "status": 200,
              "status_text": "OK"
            }
          },
          "base_uri": "https://localhost:8080/",
          "height": 92
        }
      },
      "source": [
        "from google.colab import files\n",
        "\n",
        "uploaded = files.upload()\n",
        "\n",
        "for fn in uploaded.keys():\n",
        "  print('User uploaded file \"{name}\" with length {length} bytes'.format(\n",
        "      name=fn, length=len(uploaded[fn])))"
      ],
      "execution_count": null,
      "outputs": [
        {
          "output_type": "display_data",
          "data": {
            "text/html": [
              "\n",
              "     <input type=\"file\" id=\"files-4951562f-3637-4711-8076-09f383d1a9e2\" name=\"files[]\" multiple disabled\n",
              "        style=\"border:none\" />\n",
              "     <output id=\"result-4951562f-3637-4711-8076-09f383d1a9e2\">\n",
              "      Upload widget is only available when the cell has been executed in the\n",
              "      current browser session. Please rerun this cell to enable.\n",
              "      </output>\n",
              "      <script src=\"/nbextensions/google.colab/files.js\"></script> "
            ],
            "text/plain": [
              "<IPython.core.display.HTML object>"
            ]
          },
          "metadata": {
            "tags": []
          }
        },
        {
          "output_type": "stream",
          "text": [
            "Saving Data_new.ods to Data_new (1).ods\n",
            "User uploaded file \"Data_new.ods\" with length 37215 bytes\n"
          ],
          "name": "stdout"
        }
      ]
    },
    {
      "cell_type": "code",
      "metadata": {
        "id": "GRFaLlAXQKCD",
        "outputId": "3140e9a6-0338-4fc6-b208-b16d58a44850",
        "colab": {
          "base_uri": "https://localhost:8080/",
          "height": 52
        }
      },
      "source": [
        "!pip install odfpy"
      ],
      "execution_count": null,
      "outputs": [
        {
          "output_type": "stream",
          "text": [
            "Requirement already satisfied: odfpy in /usr/local/lib/python3.6/dist-packages (1.4.1)\n",
            "Requirement already satisfied: defusedxml in /usr/local/lib/python3.6/dist-packages (from odfpy) (0.6.0)\n"
          ],
          "name": "stdout"
        }
      ]
    },
    {
      "cell_type": "code",
      "metadata": {
        "id": "3AKSfE7Zipm3"
      },
      "source": [
        "column_names = [\"Player\", \"Mat\" , \"Ins\", \"NO\", \"2018_Runs\", \"HS\", \"Avg\", \"BF\", \"SR\", \"100\", \"50\", \"4s\", \"6s\", \"2019_Runs\"]\n",
        "column_namest = [\"Player\", \"Mat\" , \"Ins\", \"NO\", \"2019_Runs\", \"HS\", \"Avg\", \"BF\", \"SR\", \"100\", \"50\", \"4s\", \"6s\"]\n",
        "\n",
        "Train_data  = pd.DataFrame(pd.read_excel(\"/content/Data_new.ods\", 0, header=None, names=column_names)) # 1 is the index of the second sheet\n",
        "Test_data  = pd.DataFrame(pd.read_excel(\"/content/Data_new.ods\", 1, header=None, names=column_namest))\n",
        "\n",
        "\n"
      ],
      "execution_count": null,
      "outputs": []
    },
    {
      "cell_type": "code",
      "metadata": {
        "id": "rNV9lpkpjWKY"
      },
      "source": [
        "Train_data=Train_data.drop([0])\n",
        "Test_data=Test_data.drop([0])\n",
        "Train_Player = Train_data.copy()\n",
        "Test_Player = Test_data.copy()\n",
        "Train_Player= Train_Player.pop('Player')\n",
        "Test_Player = Test_Player.pop('Player')\n",
        "Test_data = Test_data.drop(['Player'], axis = 1) \n",
        "Train_data = Train_data.drop(['Player'], axis = 1)"
      ],
      "execution_count": null,
      "outputs": []
    },
    {
      "cell_type": "code",
      "metadata": {
        "id": "1eT0rbi-vxcw",
        "outputId": "8b6d0378-49e2-40a5-cb5d-3c20210776e7",
        "colab": {
          "base_uri": "https://localhost:8080/",
          "height": 225
        }
      },
      "source": [
        "Train_Player.astype('string')"
      ],
      "execution_count": null,
      "outputs": [
        {
          "output_type": "execute_result",
          "data": {
            "text/plain": [
              "1            Aaron Finch\n",
              "2         AB de Villiers\n",
              "3        Abhishek Sharma\n",
              "4         Ajinkya Rahane\n",
              "5             Alex Hales\n",
              "             ...        \n",
              "96           Virat Kohli\n",
              "97     Washington Sundar\n",
              "98       Wriddhiman Saha\n",
              "99          Yusuf Pathan\n",
              "100         Yuvraj Singh\n",
              "Name: Player, Length: 100, dtype: string"
            ]
          },
          "metadata": {
            "tags": []
          },
          "execution_count": 62
        }
      ]
    },
    {
      "cell_type": "code",
      "metadata": {
        "id": "35vWxV5oi_1q",
        "outputId": "3eda96f2-088e-46af-e550-e5c250d1b65d",
        "colab": {
          "base_uri": "https://localhost:8080/",
          "height": 206
        }
      },
      "source": [
        "Test_data.head()"
      ],
      "execution_count": null,
      "outputs": [
        {
          "output_type": "execute_result",
          "data": {
            "text/html": [
              "<div>\n",
              "<style scoped>\n",
              "    .dataframe tbody tr th:only-of-type {\n",
              "        vertical-align: middle;\n",
              "    }\n",
              "\n",
              "    .dataframe tbody tr th {\n",
              "        vertical-align: top;\n",
              "    }\n",
              "\n",
              "    .dataframe thead th {\n",
              "        text-align: right;\n",
              "    }\n",
              "</style>\n",
              "<table border=\"1\" class=\"dataframe\">\n",
              "  <thead>\n",
              "    <tr style=\"text-align: right;\">\n",
              "      <th></th>\n",
              "      <th>Mat</th>\n",
              "      <th>Ins</th>\n",
              "      <th>NO</th>\n",
              "      <th>HS</th>\n",
              "      <th>Avg</th>\n",
              "      <th>BF</th>\n",
              "      <th>SR</th>\n",
              "      <th>100</th>\n",
              "      <th>50</th>\n",
              "      <th>4s</th>\n",
              "      <th>6s</th>\n",
              "    </tr>\n",
              "  </thead>\n",
              "  <tbody>\n",
              "    <tr>\n",
              "      <th>1</th>\n",
              "      <td>12</td>\n",
              "      <td>12</td>\n",
              "      <td>2</td>\n",
              "      <td>100</td>\n",
              "      <td>69.2</td>\n",
              "      <td>481</td>\n",
              "      <td>143.86</td>\n",
              "      <td>1</td>\n",
              "      <td>8</td>\n",
              "      <td>57</td>\n",
              "      <td>21</td>\n",
              "    </tr>\n",
              "    <tr>\n",
              "      <th>2</th>\n",
              "      <td>14</td>\n",
              "      <td>14</td>\n",
              "      <td>3</td>\n",
              "      <td>100</td>\n",
              "      <td>53.9</td>\n",
              "      <td>438</td>\n",
              "      <td>135.38</td>\n",
              "      <td>1</td>\n",
              "      <td>6</td>\n",
              "      <td>49</td>\n",
              "      <td>25</td>\n",
              "    </tr>\n",
              "    <tr>\n",
              "      <th>3</th>\n",
              "      <td>16</td>\n",
              "      <td>16</td>\n",
              "      <td>1</td>\n",
              "      <td>81</td>\n",
              "      <td>35.26</td>\n",
              "      <td>398</td>\n",
              "      <td>132.91</td>\n",
              "      <td>0</td>\n",
              "      <td>4</td>\n",
              "      <td>45</td>\n",
              "      <td>25</td>\n",
              "    </tr>\n",
              "    <tr>\n",
              "      <th>4</th>\n",
              "      <td>16</td>\n",
              "      <td>16</td>\n",
              "      <td>1</td>\n",
              "      <td>97</td>\n",
              "      <td>34.73</td>\n",
              "      <td>384</td>\n",
              "      <td>135.67</td>\n",
              "      <td>0</td>\n",
              "      <td>5</td>\n",
              "      <td>64</td>\n",
              "      <td>11</td>\n",
              "    </tr>\n",
              "    <tr>\n",
              "      <th>5</th>\n",
              "      <td>14</td>\n",
              "      <td>13</td>\n",
              "      <td>4</td>\n",
              "      <td>80</td>\n",
              "      <td>56.66</td>\n",
              "      <td>249</td>\n",
              "      <td>204.81</td>\n",
              "      <td>0</td>\n",
              "      <td>4</td>\n",
              "      <td>31</td>\n",
              "      <td>52</td>\n",
              "    </tr>\n",
              "  </tbody>\n",
              "</table>\n",
              "</div>"
            ],
            "text/plain": [
              "  Mat Ins NO   HS    Avg   BF      SR  100  50  4s  6s\n",
              "1  12  12  2  100   69.2  481  143.86    1   8  57  21\n",
              "2  14  14  3  100   53.9  438  135.38    1   6  49  25\n",
              "3  16  16  1   81  35.26  398  132.91    0   4  45  25\n",
              "4  16  16  1   97  34.73  384  135.67    0   5  64  11\n",
              "5  14  13  4   80  56.66  249  204.81    0   4  31  52"
            ]
          },
          "metadata": {
            "tags": []
          },
          "execution_count": 96
        }
      ]
    },
    {
      "cell_type": "code",
      "metadata": {
        "id": "OEG9Q6DNmh4A",
        "outputId": "9204a12b-1c79-42f0-9ae6-4db20ae468fe",
        "colab": {
          "base_uri": "https://localhost:8080/",
          "height": 206
        }
      },
      "source": [
        "Train_data.head()"
      ],
      "execution_count": null,
      "outputs": [
        {
          "output_type": "execute_result",
          "data": {
            "text/html": [
              "<div>\n",
              "<style scoped>\n",
              "    .dataframe tbody tr th:only-of-type {\n",
              "        vertical-align: middle;\n",
              "    }\n",
              "\n",
              "    .dataframe tbody tr th {\n",
              "        vertical-align: top;\n",
              "    }\n",
              "\n",
              "    .dataframe thead th {\n",
              "        text-align: right;\n",
              "    }\n",
              "</style>\n",
              "<table border=\"1\" class=\"dataframe\">\n",
              "  <thead>\n",
              "    <tr style=\"text-align: right;\">\n",
              "      <th></th>\n",
              "      <th>Mat</th>\n",
              "      <th>Ins</th>\n",
              "      <th>NO</th>\n",
              "      <th>2018_Runs</th>\n",
              "      <th>HS</th>\n",
              "      <th>Avg</th>\n",
              "      <th>BF</th>\n",
              "      <th>SR</th>\n",
              "      <th>100</th>\n",
              "      <th>50</th>\n",
              "      <th>4s</th>\n",
              "      <th>6s</th>\n",
              "      <th>2019_Runs</th>\n",
              "    </tr>\n",
              "  </thead>\n",
              "  <tbody>\n",
              "    <tr>\n",
              "      <th>1</th>\n",
              "      <td>10</td>\n",
              "      <td>9</td>\n",
              "      <td>1</td>\n",
              "      <td>134</td>\n",
              "      <td>46</td>\n",
              "      <td>16.75</td>\n",
              "      <td>100</td>\n",
              "      <td>134</td>\n",
              "      <td>0</td>\n",
              "      <td>0</td>\n",
              "      <td>6</td>\n",
              "      <td>8</td>\n",
              "      <td>160</td>\n",
              "    </tr>\n",
              "    <tr>\n",
              "      <th>2</th>\n",
              "      <td>12</td>\n",
              "      <td>11</td>\n",
              "      <td>2</td>\n",
              "      <td>480</td>\n",
              "      <td>90</td>\n",
              "      <td>53.33</td>\n",
              "      <td>275</td>\n",
              "      <td>174.54</td>\n",
              "      <td>0</td>\n",
              "      <td>6</td>\n",
              "      <td>39</td>\n",
              "      <td>30</td>\n",
              "      <td>424</td>\n",
              "    </tr>\n",
              "    <tr>\n",
              "      <th>3</th>\n",
              "      <td>3</td>\n",
              "      <td>3</td>\n",
              "      <td>2</td>\n",
              "      <td>63</td>\n",
              "      <td>46</td>\n",
              "      <td>63</td>\n",
              "      <td>33</td>\n",
              "      <td>190.9</td>\n",
              "      <td>0</td>\n",
              "      <td>0</td>\n",
              "      <td>3</td>\n",
              "      <td>5</td>\n",
              "      <td>63</td>\n",
              "    </tr>\n",
              "    <tr>\n",
              "      <th>4</th>\n",
              "      <td>15</td>\n",
              "      <td>14</td>\n",
              "      <td>1</td>\n",
              "      <td>370</td>\n",
              "      <td>65</td>\n",
              "      <td>28.46</td>\n",
              "      <td>313</td>\n",
              "      <td>118.21</td>\n",
              "      <td>0</td>\n",
              "      <td>1</td>\n",
              "      <td>39</td>\n",
              "      <td>5</td>\n",
              "      <td>396</td>\n",
              "    </tr>\n",
              "    <tr>\n",
              "      <th>5</th>\n",
              "      <td>6</td>\n",
              "      <td>6</td>\n",
              "      <td>0</td>\n",
              "      <td>148</td>\n",
              "      <td>45</td>\n",
              "      <td>24.66</td>\n",
              "      <td>118</td>\n",
              "      <td>125.42</td>\n",
              "      <td>0</td>\n",
              "      <td>0</td>\n",
              "      <td>13</td>\n",
              "      <td>6</td>\n",
              "      <td>165</td>\n",
              "    </tr>\n",
              "  </tbody>\n",
              "</table>\n",
              "</div>"
            ],
            "text/plain": [
              "  Mat Ins NO 2018_Runs  HS    Avg   BF      SR  100  50  4s  6s 2019_Runs\n",
              "1  10   9  1       134  46  16.75  100     134    0   0   6   8       160\n",
              "2  12  11  2       480  90  53.33  275  174.54    0   6  39  30       424\n",
              "3   3   3  2        63  46     63   33   190.9    0   0   3   5        63\n",
              "4  15  14  1       370  65  28.46  313  118.21    0   1  39   5       396\n",
              "5   6   6  0       148  45  24.66  118  125.42    0   0  13   6       165"
            ]
          },
          "metadata": {
            "tags": []
          },
          "execution_count": 97
        }
      ]
    },
    {
      "cell_type": "code",
      "metadata": {
        "id": "KFcd5jfRixy8"
      },
      "source": [
        "Train_features = Train_data.copy()\n",
        "Test_features = Test_data.copy()\n",
        "\n",
        "Train_labels = Train_features.pop('2019_Runs')\n",
        "#Train_labels= Train_labels.pop('Player')\n",
        "Test_labels = Test_features.pop('2019_Runs')\n",
        "#Test_labels= Test_labels.pop('Player')\n"
      ],
      "execution_count": null,
      "outputs": []
    },
    {
      "cell_type": "code",
      "metadata": {
        "id": "bra2SGeWdwrd",
        "outputId": "500d685c-08bd-4adb-b295-cf0506ee80f3",
        "colab": {
          "base_uri": "https://localhost:8080/",
          "height": 34
        }
      },
      "source": [
        "Train_features.shape"
      ],
      "execution_count": null,
      "outputs": [
        {
          "output_type": "execute_result",
          "data": {
            "text/plain": [
              "(100, 12)"
            ]
          },
          "metadata": {
            "tags": []
          },
          "execution_count": 41
        }
      ]
    },
    {
      "cell_type": "code",
      "metadata": {
        "id": "kMbAqQ0jd9T8",
        "outputId": "895d4c53-04d2-4901-bae1-6706de5d1ba6",
        "colab": {
          "base_uri": "https://localhost:8080/",
          "height": 34
        }
      },
      "source": [
        "Train_labels.shape"
      ],
      "execution_count": null,
      "outputs": [
        {
          "output_type": "execute_result",
          "data": {
            "text/plain": [
              "(100,)"
            ]
          },
          "metadata": {
            "tags": []
          },
          "execution_count": 42
        }
      ]
    },
    {
      "cell_type": "code",
      "metadata": {
        "id": "ZFrK6IQQV6SV",
        "outputId": "553fa089-a3c6-46a2-ee0f-95788521d317",
        "colab": {
          "base_uri": "https://localhost:8080/",
          "height": 34
        }
      },
      "source": [
        "Test_data.shape"
      ],
      "execution_count": null,
      "outputs": [
        {
          "output_type": "execute_result",
          "data": {
            "text/plain": [
              "(100, 12)"
            ]
          },
          "metadata": {
            "tags": []
          },
          "execution_count": 99
        }
      ]
    },
    {
      "cell_type": "code",
      "metadata": {
        "id": "D5Lf0Pxk3QBH",
        "outputId": "ac1a7d7e-94b1-45f1-87b5-2b5056fd443d",
        "colab": {
          "base_uri": "https://localhost:8080/",
          "height": 424
        }
      },
      "source": [
        "Train_features"
      ],
      "execution_count": null,
      "outputs": [
        {
          "output_type": "execute_result",
          "data": {
            "text/html": [
              "<div>\n",
              "<style scoped>\n",
              "    .dataframe tbody tr th:only-of-type {\n",
              "        vertical-align: middle;\n",
              "    }\n",
              "\n",
              "    .dataframe tbody tr th {\n",
              "        vertical-align: top;\n",
              "    }\n",
              "\n",
              "    .dataframe thead th {\n",
              "        text-align: right;\n",
              "    }\n",
              "</style>\n",
              "<table border=\"1\" class=\"dataframe\">\n",
              "  <thead>\n",
              "    <tr style=\"text-align: right;\">\n",
              "      <th></th>\n",
              "      <th>Mat</th>\n",
              "      <th>Ins</th>\n",
              "      <th>NO</th>\n",
              "      <th>2018_Runs</th>\n",
              "      <th>HS</th>\n",
              "      <th>Avg</th>\n",
              "      <th>BF</th>\n",
              "      <th>SR</th>\n",
              "      <th>100</th>\n",
              "      <th>50</th>\n",
              "      <th>4s</th>\n",
              "      <th>6s</th>\n",
              "    </tr>\n",
              "  </thead>\n",
              "  <tbody>\n",
              "    <tr>\n",
              "      <th>1</th>\n",
              "      <td>10</td>\n",
              "      <td>9</td>\n",
              "      <td>1</td>\n",
              "      <td>134</td>\n",
              "      <td>46</td>\n",
              "      <td>16.75</td>\n",
              "      <td>100</td>\n",
              "      <td>134</td>\n",
              "      <td>0</td>\n",
              "      <td>0</td>\n",
              "      <td>6</td>\n",
              "      <td>8</td>\n",
              "    </tr>\n",
              "    <tr>\n",
              "      <th>2</th>\n",
              "      <td>12</td>\n",
              "      <td>11</td>\n",
              "      <td>2</td>\n",
              "      <td>480</td>\n",
              "      <td>90</td>\n",
              "      <td>53.33</td>\n",
              "      <td>275</td>\n",
              "      <td>174.54</td>\n",
              "      <td>0</td>\n",
              "      <td>6</td>\n",
              "      <td>39</td>\n",
              "      <td>30</td>\n",
              "    </tr>\n",
              "    <tr>\n",
              "      <th>3</th>\n",
              "      <td>3</td>\n",
              "      <td>3</td>\n",
              "      <td>2</td>\n",
              "      <td>63</td>\n",
              "      <td>46</td>\n",
              "      <td>63</td>\n",
              "      <td>33</td>\n",
              "      <td>190.9</td>\n",
              "      <td>0</td>\n",
              "      <td>0</td>\n",
              "      <td>3</td>\n",
              "      <td>5</td>\n",
              "    </tr>\n",
              "    <tr>\n",
              "      <th>4</th>\n",
              "      <td>15</td>\n",
              "      <td>14</td>\n",
              "      <td>1</td>\n",
              "      <td>370</td>\n",
              "      <td>65</td>\n",
              "      <td>28.46</td>\n",
              "      <td>313</td>\n",
              "      <td>118.21</td>\n",
              "      <td>0</td>\n",
              "      <td>1</td>\n",
              "      <td>39</td>\n",
              "      <td>5</td>\n",
              "    </tr>\n",
              "    <tr>\n",
              "      <th>5</th>\n",
              "      <td>6</td>\n",
              "      <td>6</td>\n",
              "      <td>0</td>\n",
              "      <td>148</td>\n",
              "      <td>45</td>\n",
              "      <td>24.66</td>\n",
              "      <td>118</td>\n",
              "      <td>125.42</td>\n",
              "      <td>0</td>\n",
              "      <td>0</td>\n",
              "      <td>13</td>\n",
              "      <td>6</td>\n",
              "    </tr>\n",
              "    <tr>\n",
              "      <th>...</th>\n",
              "      <td>...</td>\n",
              "      <td>...</td>\n",
              "      <td>...</td>\n",
              "      <td>...</td>\n",
              "      <td>...</td>\n",
              "      <td>...</td>\n",
              "      <td>...</td>\n",
              "      <td>...</td>\n",
              "      <td>...</td>\n",
              "      <td>...</td>\n",
              "      <td>...</td>\n",
              "      <td>...</td>\n",
              "    </tr>\n",
              "    <tr>\n",
              "      <th>96</th>\n",
              "      <td>14</td>\n",
              "      <td>14</td>\n",
              "      <td>3</td>\n",
              "      <td>530</td>\n",
              "      <td>92</td>\n",
              "      <td>48.18</td>\n",
              "      <td>381</td>\n",
              "      <td>139.1</td>\n",
              "      <td>0</td>\n",
              "      <td>4</td>\n",
              "      <td>52</td>\n",
              "      <td>18</td>\n",
              "    </tr>\n",
              "    <tr>\n",
              "      <th>97</th>\n",
              "      <td>7</td>\n",
              "      <td>6</td>\n",
              "      <td>3</td>\n",
              "      <td>65</td>\n",
              "      <td>35</td>\n",
              "      <td>21.66</td>\n",
              "      <td>38</td>\n",
              "      <td>171.05</td>\n",
              "      <td>0</td>\n",
              "      <td>0</td>\n",
              "      <td>5</td>\n",
              "      <td>4</td>\n",
              "    </tr>\n",
              "    <tr>\n",
              "      <th>98</th>\n",
              "      <td>11</td>\n",
              "      <td>10</td>\n",
              "      <td>2</td>\n",
              "      <td>122</td>\n",
              "      <td>35</td>\n",
              "      <td>15.25</td>\n",
              "      <td>102</td>\n",
              "      <td>119.6</td>\n",
              "      <td>0</td>\n",
              "      <td>0</td>\n",
              "      <td>17</td>\n",
              "      <td>1</td>\n",
              "    </tr>\n",
              "    <tr>\n",
              "      <th>99</th>\n",
              "      <td>15</td>\n",
              "      <td>13</td>\n",
              "      <td>4</td>\n",
              "      <td>260</td>\n",
              "      <td>45</td>\n",
              "      <td>28.88</td>\n",
              "      <td>200</td>\n",
              "      <td>130</td>\n",
              "      <td>0</td>\n",
              "      <td>0</td>\n",
              "      <td>22</td>\n",
              "      <td>11</td>\n",
              "    </tr>\n",
              "    <tr>\n",
              "      <th>100</th>\n",
              "      <td>8</td>\n",
              "      <td>6</td>\n",
              "      <td>0</td>\n",
              "      <td>65</td>\n",
              "      <td>20</td>\n",
              "      <td>10.83</td>\n",
              "      <td>73</td>\n",
              "      <td>89.04</td>\n",
              "      <td>0</td>\n",
              "      <td>0</td>\n",
              "      <td>6</td>\n",
              "      <td>2</td>\n",
              "    </tr>\n",
              "  </tbody>\n",
              "</table>\n",
              "<p>100 rows × 12 columns</p>\n",
              "</div>"
            ],
            "text/plain": [
              "    Mat Ins NO 2018_Runs  HS    Avg   BF      SR  100  50  4s  6s\n",
              "1    10   9  1       134  46  16.75  100     134    0   0   6   8\n",
              "2    12  11  2       480  90  53.33  275  174.54    0   6  39  30\n",
              "3     3   3  2        63  46     63   33   190.9    0   0   3   5\n",
              "4    15  14  1       370  65  28.46  313  118.21    0   1  39   5\n",
              "5     6   6  0       148  45  24.66  118  125.42    0   0  13   6\n",
              "..   ..  .. ..       ...  ..    ...  ...     ...  ...  ..  ..  ..\n",
              "96   14  14  3       530  92  48.18  381   139.1    0   4  52  18\n",
              "97    7   6  3        65  35  21.66   38  171.05    0   0   5   4\n",
              "98   11  10  2       122  35  15.25  102   119.6    0   0  17   1\n",
              "99   15  13  4       260  45  28.88  200     130    0   0  22  11\n",
              "100   8   6  0        65  20  10.83   73   89.04    0   0   6   2\n",
              "\n",
              "[100 rows x 12 columns]"
            ]
          },
          "metadata": {
            "tags": []
          },
          "execution_count": 43
        }
      ]
    },
    {
      "cell_type": "code",
      "metadata": {
        "id": "Apc1BR9bWCLR",
        "outputId": "94f2d329-deb6-4e1f-bfa0-1478892c9201",
        "colab": {
          "base_uri": "https://localhost:8080/",
          "height": 424
        }
      },
      "source": [
        "Test_data"
      ],
      "execution_count": null,
      "outputs": [
        {
          "output_type": "execute_result",
          "data": {
            "text/html": [
              "<div>\n",
              "<style scoped>\n",
              "    .dataframe tbody tr th:only-of-type {\n",
              "        vertical-align: middle;\n",
              "    }\n",
              "\n",
              "    .dataframe tbody tr th {\n",
              "        vertical-align: top;\n",
              "    }\n",
              "\n",
              "    .dataframe thead th {\n",
              "        text-align: right;\n",
              "    }\n",
              "</style>\n",
              "<table border=\"1\" class=\"dataframe\">\n",
              "  <thead>\n",
              "    <tr style=\"text-align: right;\">\n",
              "      <th></th>\n",
              "      <th>Mat</th>\n",
              "      <th>Ins</th>\n",
              "      <th>NO</th>\n",
              "      <th>2019_Runs</th>\n",
              "      <th>HS</th>\n",
              "      <th>Avg</th>\n",
              "      <th>BF</th>\n",
              "      <th>SR</th>\n",
              "      <th>100</th>\n",
              "      <th>50</th>\n",
              "      <th>4s</th>\n",
              "      <th>6s</th>\n",
              "    </tr>\n",
              "  </thead>\n",
              "  <tbody>\n",
              "    <tr>\n",
              "      <th>1</th>\n",
              "      <td>12</td>\n",
              "      <td>12</td>\n",
              "      <td>2</td>\n",
              "      <td>692</td>\n",
              "      <td>100</td>\n",
              "      <td>69.2</td>\n",
              "      <td>481</td>\n",
              "      <td>143.86</td>\n",
              "      <td>1</td>\n",
              "      <td>8</td>\n",
              "      <td>57</td>\n",
              "      <td>21</td>\n",
              "    </tr>\n",
              "    <tr>\n",
              "      <th>2</th>\n",
              "      <td>14</td>\n",
              "      <td>14</td>\n",
              "      <td>3</td>\n",
              "      <td>593</td>\n",
              "      <td>100</td>\n",
              "      <td>53.9</td>\n",
              "      <td>438</td>\n",
              "      <td>135.38</td>\n",
              "      <td>1</td>\n",
              "      <td>6</td>\n",
              "      <td>49</td>\n",
              "      <td>25</td>\n",
              "    </tr>\n",
              "    <tr>\n",
              "      <th>3</th>\n",
              "      <td>16</td>\n",
              "      <td>16</td>\n",
              "      <td>1</td>\n",
              "      <td>529</td>\n",
              "      <td>81</td>\n",
              "      <td>35.26</td>\n",
              "      <td>398</td>\n",
              "      <td>132.91</td>\n",
              "      <td>0</td>\n",
              "      <td>4</td>\n",
              "      <td>45</td>\n",
              "      <td>25</td>\n",
              "    </tr>\n",
              "    <tr>\n",
              "      <th>4</th>\n",
              "      <td>16</td>\n",
              "      <td>16</td>\n",
              "      <td>1</td>\n",
              "      <td>521</td>\n",
              "      <td>97</td>\n",
              "      <td>34.73</td>\n",
              "      <td>384</td>\n",
              "      <td>135.67</td>\n",
              "      <td>0</td>\n",
              "      <td>5</td>\n",
              "      <td>64</td>\n",
              "      <td>11</td>\n",
              "    </tr>\n",
              "    <tr>\n",
              "      <th>5</th>\n",
              "      <td>14</td>\n",
              "      <td>13</td>\n",
              "      <td>4</td>\n",
              "      <td>510</td>\n",
              "      <td>80</td>\n",
              "      <td>56.66</td>\n",
              "      <td>249</td>\n",
              "      <td>204.81</td>\n",
              "      <td>0</td>\n",
              "      <td>4</td>\n",
              "      <td>31</td>\n",
              "      <td>52</td>\n",
              "    </tr>\n",
              "    <tr>\n",
              "      <th>...</th>\n",
              "      <td>...</td>\n",
              "      <td>...</td>\n",
              "      <td>...</td>\n",
              "      <td>...</td>\n",
              "      <td>...</td>\n",
              "      <td>...</td>\n",
              "      <td>...</td>\n",
              "      <td>...</td>\n",
              "      <td>...</td>\n",
              "      <td>...</td>\n",
              "      <td>...</td>\n",
              "      <td>...</td>\n",
              "    </tr>\n",
              "    <tr>\n",
              "      <th>96</th>\n",
              "      <td>2</td>\n",
              "      <td>2</td>\n",
              "      <td>0</td>\n",
              "      <td>11</td>\n",
              "      <td>6</td>\n",
              "      <td>5.5</td>\n",
              "      <td>10</td>\n",
              "      <td>110</td>\n",
              "      <td>0</td>\n",
              "      <td>0</td>\n",
              "      <td>1</td>\n",
              "      <td>0</td>\n",
              "    </tr>\n",
              "    <tr>\n",
              "      <th>97</th>\n",
              "      <td>13</td>\n",
              "      <td>3</td>\n",
              "      <td>3</td>\n",
              "      <td>10</td>\n",
              "      <td>10</td>\n",
              "      <td>0</td>\n",
              "      <td>3</td>\n",
              "      <td>333.33</td>\n",
              "      <td>0</td>\n",
              "      <td>0</td>\n",
              "      <td>1</td>\n",
              "      <td>1</td>\n",
              "    </tr>\n",
              "    <tr>\n",
              "      <th>98</th>\n",
              "      <td>3</td>\n",
              "      <td>1</td>\n",
              "      <td>0</td>\n",
              "      <td>9</td>\n",
              "      <td>9</td>\n",
              "      <td>9</td>\n",
              "      <td>10</td>\n",
              "      <td>90</td>\n",
              "      <td>0</td>\n",
              "      <td>0</td>\n",
              "      <td>0</td>\n",
              "      <td>0</td>\n",
              "    </tr>\n",
              "    <tr>\n",
              "      <th>99</th>\n",
              "      <td>7</td>\n",
              "      <td>4</td>\n",
              "      <td>0</td>\n",
              "      <td>9</td>\n",
              "      <td>5</td>\n",
              "      <td>2.25</td>\n",
              "      <td>12</td>\n",
              "      <td>75</td>\n",
              "      <td>0</td>\n",
              "      <td>0</td>\n",
              "      <td>1</td>\n",
              "      <td>0</td>\n",
              "    </tr>\n",
              "    <tr>\n",
              "      <th>100</th>\n",
              "      <td>3</td>\n",
              "      <td>1</td>\n",
              "      <td>1</td>\n",
              "      <td>9</td>\n",
              "      <td>9</td>\n",
              "      <td>0</td>\n",
              "      <td>9</td>\n",
              "      <td>100</td>\n",
              "      <td>0</td>\n",
              "      <td>0</td>\n",
              "      <td>0</td>\n",
              "      <td>0</td>\n",
              "    </tr>\n",
              "  </tbody>\n",
              "</table>\n",
              "<p>100 rows × 12 columns</p>\n",
              "</div>"
            ],
            "text/plain": [
              "    Mat Ins NO 2019_Runs   HS    Avg   BF      SR  100  50  4s  6s\n",
              "1    12  12  2       692  100   69.2  481  143.86    1   8  57  21\n",
              "2    14  14  3       593  100   53.9  438  135.38    1   6  49  25\n",
              "3    16  16  1       529   81  35.26  398  132.91    0   4  45  25\n",
              "4    16  16  1       521   97  34.73  384  135.67    0   5  64  11\n",
              "5    14  13  4       510   80  56.66  249  204.81    0   4  31  52\n",
              "..   ..  .. ..       ...  ...    ...  ...     ...  ...  ..  ..  ..\n",
              "96    2   2  0        11    6    5.5   10     110    0   0   1   0\n",
              "97   13   3  3        10   10      0    3  333.33    0   0   1   1\n",
              "98    3   1  0         9    9      9   10      90    0   0   0   0\n",
              "99    7   4  0         9    5   2.25   12      75    0   0   1   0\n",
              "100   3   1  1         9    9      0    9     100    0   0   0   0\n",
              "\n",
              "[100 rows x 12 columns]"
            ]
          },
          "metadata": {
            "tags": []
          },
          "execution_count": 100
        }
      ]
    },
    {
      "cell_type": "code",
      "metadata": {
        "id": "WjJdHJkD1P04"
      },
      "source": [
        "normalizer = preprocessing.Normalization()\n",
        "normalizer.adapt(np.array(Train_features))\n"
      ],
      "execution_count": null,
      "outputs": []
    },
    {
      "cell_type": "code",
      "metadata": {
        "id": "I5F4c_WRsMaL",
        "outputId": "91c49f82-995b-49c1-f6a0-5e69c2c19d2e",
        "colab": {
          "base_uri": "https://localhost:8080/",
          "height": 225
        }
      },
      "source": [
        "Train_labels"
      ],
      "execution_count": null,
      "outputs": [
        {
          "output_type": "execute_result",
          "data": {
            "text/plain": [
              "1      160\n",
              "2      424\n",
              "3       63\n",
              "4      396\n",
              "5      165\n",
              "      ... \n",
              "96     488\n",
              "97      64\n",
              "98     115\n",
              "99     296\n",
              "100     67\n",
              "Name: 2019_Runs, Length: 100, dtype: object"
            ]
          },
          "metadata": {
            "tags": []
          },
          "execution_count": 45
        }
      ]
    },
    {
      "cell_type": "code",
      "metadata": {
        "id": "REeyHxoMTs9c",
        "outputId": "f4e929b0-f967-4b8d-9f4c-af3dfc712579",
        "colab": {
          "base_uri": "https://localhost:8080/",
          "height": 52
        }
      },
      "source": [
        "print(normalizer.mean.numpy())\n"
      ],
      "execution_count": null,
      "outputs": [
        {
          "output_type": "stream",
          "text": [
            "[ 10.42    8.6     1.79  189.26   47.41   24.372 135.89  133.162   0.05\n",
            "   1.01   16.39    8.68 ]\n"
          ],
          "name": "stdout"
        }
      ]
    },
    {
      "cell_type": "code",
      "metadata": {
        "id": "HDQToxoQZV-L"
      },
      "source": [
        "def build_and_compile_model(norm):\n",
        "  model = keras.Sequential([\n",
        "      norm,\n",
        "      layers.Dense(64, activation='relu'),\n",
        "      layers.Dense(64, activation='relu'),\n",
        "      layers.Dense(1)\n",
        "  ])\n",
        "\n",
        "  model.compile(loss='mean_absolute_error',\n",
        "                optimizer=tf.keras.optimizers.Adam(0.001))\n",
        "  return model\n"
      ],
      "execution_count": null,
      "outputs": []
    },
    {
      "cell_type": "code",
      "metadata": {
        "id": "Ia8PMOKsZfWx",
        "outputId": "57d13171-bbb0-41dd-d821-a654109d5a5b",
        "colab": {
          "base_uri": "https://localhost:8080/",
          "height": 295
        }
      },
      "source": [
        "dnn_model = build_and_compile_model(normalizer)\n",
        "dnn_model.summary()\n"
      ],
      "execution_count": null,
      "outputs": [
        {
          "output_type": "stream",
          "text": [
            "Model: \"sequential_1\"\n",
            "_________________________________________________________________\n",
            "Layer (type)                 Output Shape              Param #   \n",
            "=================================================================\n",
            "normalization_1 (Normalizati (None, 12)                25        \n",
            "_________________________________________________________________\n",
            "dense_3 (Dense)              (None, 64)                832       \n",
            "_________________________________________________________________\n",
            "dense_4 (Dense)              (None, 64)                4160      \n",
            "_________________________________________________________________\n",
            "dense_5 (Dense)              (None, 1)                 65        \n",
            "=================================================================\n",
            "Total params: 5,082\n",
            "Trainable params: 5,057\n",
            "Non-trainable params: 25\n",
            "_________________________________________________________________\n"
          ],
          "name": "stdout"
        }
      ]
    },
    {
      "cell_type": "code",
      "metadata": {
        "id": "69KBn9YPaGtU"
      },
      "source": [
        "Train_features = np.asarray(Train_features)\n",
        "Train_labels = np.asarray(Train_labels)\n",
        "#Train_features = tf.convert_to_tensor(Train_features)\n",
        "#Train_labels = tf.convert_to_tensor(Test_labels)"
      ],
      "execution_count": null,
      "outputs": []
    },
    {
      "cell_type": "code",
      "metadata": {
        "id": "5lYC_SeSeKA4"
      },
      "source": [
        "x=Train_features.astype('int32')"
      ],
      "execution_count": null,
      "outputs": []
    },
    {
      "cell_type": "code",
      "metadata": {
        "id": "WLoLev_6hnl0"
      },
      "source": [
        "y=Train_labels.astype('int32')"
      ],
      "execution_count": null,
      "outputs": []
    },
    {
      "cell_type": "code",
      "metadata": {
        "id": "vPkZhw6WZhgi",
        "outputId": "d4218494-688d-4b35-8ab9-6d20456ce20f",
        "colab": {
          "base_uri": "https://localhost:8080/",
          "height": 52
        }
      },
      "source": [
        "%%time\n",
        "history = dnn_model.fit(\n",
        "    x, y,\n",
        "    validation_split=0.2,\n",
        "    verbose=0, epochs=100)\n"
      ],
      "execution_count": null,
      "outputs": [
        {
          "output_type": "stream",
          "text": [
            "CPU times: user 2.14 s, sys: 79.7 ms, total: 2.22 s\n",
            "Wall time: 2.04 s\n"
          ],
          "name": "stdout"
        }
      ]
    },
    {
      "cell_type": "code",
      "metadata": {
        "id": "YIGu2tS1mbEQ",
        "outputId": "a6de815d-9fd3-4da4-f49a-7c51e9f1ad78",
        "colab": {
          "base_uri": "https://localhost:8080/",
          "height": 542
        }
      },
      "source": [
        "import plotly.graph_objects as go\n",
        "fig = go.Figure()\n",
        "\n",
        "fig.add_trace(go.Scatter(x=history.epoch,\n",
        "                         y=history.history['loss'],\n",
        "                         mode='lines+markers',\n",
        "                         name='Training loss'))\n",
        "fig.add_trace(go.Scatter(x=history.epoch,\n",
        "                         y=history.history['val_loss'],\n",
        "                         mode='lines+markers',\n",
        "                         name='Validation loss'))\n",
        "fig.update_layout(title='Loss',\n",
        "                  xaxis=dict(title='Epoch'),\n",
        "                  yaxis=dict(title='percentage'))\n",
        "fig.show()"
      ],
      "execution_count": null,
      "outputs": [
        {
          "output_type": "display_data",
          "data": {
            "text/html": [
              "<html>\n",
              "<head><meta charset=\"utf-8\" /></head>\n",
              "<body>\n",
              "    <div>\n",
              "            <script src=\"https://cdnjs.cloudflare.com/ajax/libs/mathjax/2.7.5/MathJax.js?config=TeX-AMS-MML_SVG\"></script><script type=\"text/javascript\">if (window.MathJax) {MathJax.Hub.Config({SVG: {font: \"STIX-Web\"}});}</script>\n",
              "                <script type=\"text/javascript\">window.PlotlyConfig = {MathJaxConfig: 'local'};</script>\n",
              "        <script src=\"https://cdn.plot.ly/plotly-latest.min.js\"></script>    \n",
              "            <div id=\"940b9660-501a-407a-b931-9b0de43629ba\" class=\"plotly-graph-div\" style=\"height:525px; width:100%;\"></div>\n",
              "            <script type=\"text/javascript\">\n",
              "                \n",
              "                    window.PLOTLYENV=window.PLOTLYENV || {};\n",
              "                    \n",
              "                if (document.getElementById(\"940b9660-501a-407a-b931-9b0de43629ba\")) {\n",
              "                    Plotly.newPlot(\n",
              "                        '940b9660-501a-407a-b931-9b0de43629ba',\n",
              "                        [{\"mode\": \"lines+markers\", \"name\": \"Training loss\", \"type\": \"scatter\", \"x\": [0, 1, 2, 3, 4, 5, 6, 7, 8, 9, 10, 11, 12, 13, 14, 15, 16, 17, 18, 19, 20, 21, 22, 23, 24, 25, 26, 27, 28, 29, 30, 31, 32, 33, 34, 35, 36, 37, 38, 39, 40, 41, 42, 43, 44, 45, 46, 47, 48, 49, 50, 51, 52, 53, 54, 55, 56, 57, 58, 59, 60, 61, 62, 63, 64, 65, 66, 67, 68, 69, 70, 71, 72, 73, 74, 75, 76, 77, 78, 79, 80, 81, 82, 83, 84, 85, 86, 87, 88, 89, 90, 91, 92, 93, 94, 95, 96, 97, 98, 99], \"y\": [177.77078247070312, 177.4831085205078, 177.20938110351562, 176.9328155517578, 176.6589813232422, 176.36392211914062, 176.0685272216797, 175.75601196289062, 175.4216766357422, 175.06602478027344, 174.67294311523438, 174.24977111816406, 173.7783966064453, 173.279052734375, 172.71096801757812, 172.0982666015625, 171.41513061523438, 170.68551635742188, 169.9623260498047, 169.3357696533203, 168.69261169433594, 168.0288543701172, 167.32540893554688, 166.6079864501953, 165.8942413330078, 165.13345336914062, 164.34848022460938, 163.5261993408203, 162.65406799316406, 161.74429321289062, 160.71763610839844, 159.6043701171875, 158.5035858154297, 157.19227600097656, 155.95223999023438, 154.64254760742188, 153.0806427001953, 151.5321044921875, 149.84652709960938, 148.02651977539062, 146.01101684570312, 144.17311096191406, 142.04391479492188, 139.51730346679688, 137.21969604492188, 134.4583282470703, 131.8174285888672, 128.9529571533203, 125.9266357421875, 122.38995361328125, 119.0982666015625, 115.57807922363281, 111.80488586425781, 108.08089447021484, 103.86814880371094, 99.49420166015625, 94.92021179199219, 90.12550354003906, 85.05052185058594, 79.63508605957031, 74.33065032958984, 69.56253051757812, 66.30520629882812, 64.29613494873047, 62.22467803955078, 60.939125061035156, 59.8158073425293, 59.45281982421875, 58.964874267578125, 58.0956916809082, 57.1920166015625, 56.241477966308594, 55.33251953125, 54.415000915527344, 53.51268768310547, 52.40818405151367, 51.60078048706055, 50.67805099487305, 49.85346603393555, 49.03976058959961, 48.14013671875, 47.227317810058594, 46.470672607421875, 45.79290008544922, 44.97178268432617, 44.23734664916992, 43.520111083984375, 42.82912063598633, 42.061370849609375, 41.36553955078125, 40.74790573120117, 40.000911712646484, 39.204254150390625, 38.51970291137695, 37.75706100463867, 37.01547622680664, 36.27683639526367, 35.630645751953125, 35.021209716796875, 34.32494354248047]}, {\"mode\": \"lines+markers\", \"name\": \"Validation loss\", \"type\": \"scatter\", \"x\": [0, 1, 2, 3, 4, 5, 6, 7, 8, 9, 10, 11, 12, 13, 14, 15, 16, 17, 18, 19, 20, 21, 22, 23, 24, 25, 26, 27, 28, 29, 30, 31, 32, 33, 34, 35, 36, 37, 38, 39, 40, 41, 42, 43, 44, 45, 46, 47, 48, 49, 50, 51, 52, 53, 54, 55, 56, 57, 58, 59, 60, 61, 62, 63, 64, 65, 66, 67, 68, 69, 70, 71, 72, 73, 74, 75, 76, 77, 78, 79, 80, 81, 82, 83, 84, 85, 86, 87, 88, 89, 90, 91, 92, 93, 94, 95, 96, 97, 98, 99], \"y\": [212.2544403076172, 211.934326171875, 211.61154174804688, 211.288818359375, 210.95736694335938, 210.6210479736328, 210.27182006835938, 209.90328979492188, 209.5016632080078, 209.0586700439453, 208.57742309570312, 208.05386352539062, 207.48092651367188, 206.8518524169922, 206.2159881591797, 205.5629425048828, 204.90426635742188, 204.2427520751953, 203.5438690185547, 202.8025360107422, 202.05636596679688, 201.32656860351562, 200.5482635498047, 199.69815063476562, 198.77981567382812, 197.80052185058594, 196.74009704589844, 195.62429809570312, 194.4955291748047, 193.2644500732422, 191.9435272216797, 190.49412536621094, 188.89105224609375, 187.1781768798828, 185.32235717773438, 183.3433380126953, 181.29299926757812, 179.0801544189453, 176.68771362304688, 174.094482421875, 171.29373168945312, 168.1963653564453, 164.9681854248047, 161.68203735351562, 158.13145446777344, 154.45338439941406, 150.47781372070312, 146.2180938720703, 141.7187957763672, 137.12681579589844, 132.07089233398438, 126.63453674316406, 120.88069152832031, 114.70096588134766, 108.29737854003906, 101.58580017089844, 94.44721984863281, 86.84397888183594, 78.7748031616211, 70.25172424316406, 61.396156311035156, 54.4476432800293, 49.55572509765625, 45.04906463623047, 41.8628044128418, 39.32558059692383, 37.267120361328125, 36.3624382019043, 36.21062469482422, 35.94097137451172, 35.68315887451172, 35.41059112548828, 35.187286376953125, 34.96289825439453, 35.260902404785156, 35.41767501831055, 35.446468353271484, 35.29790496826172, 35.032901763916016, 34.80275344848633, 34.3682861328125, 33.92410659790039, 33.60137939453125, 33.40512466430664, 33.36852264404297, 33.35090255737305, 33.27055740356445, 33.11003875732422, 32.86420440673828, 32.59430694580078, 32.29572677612305, 31.763641357421875, 31.477392196655273, 31.377416610717773, 31.45514488220215, 31.608495712280273, 31.664669036865234, 31.728778839111328, 31.709009170532227, 32.001304626464844]}],\n",
              "                        {\"template\": {\"data\": {\"bar\": [{\"error_x\": {\"color\": \"#2a3f5f\"}, \"error_y\": {\"color\": \"#2a3f5f\"}, \"marker\": {\"line\": {\"color\": \"#E5ECF6\", \"width\": 0.5}}, \"type\": \"bar\"}], \"barpolar\": [{\"marker\": {\"line\": {\"color\": \"#E5ECF6\", \"width\": 0.5}}, \"type\": \"barpolar\"}], \"carpet\": [{\"aaxis\": {\"endlinecolor\": \"#2a3f5f\", \"gridcolor\": \"white\", \"linecolor\": \"white\", \"minorgridcolor\": \"white\", \"startlinecolor\": \"#2a3f5f\"}, \"baxis\": {\"endlinecolor\": \"#2a3f5f\", \"gridcolor\": \"white\", \"linecolor\": \"white\", \"minorgridcolor\": \"white\", \"startlinecolor\": \"#2a3f5f\"}, \"type\": \"carpet\"}], \"choropleth\": [{\"colorbar\": {\"outlinewidth\": 0, \"ticks\": \"\"}, \"type\": \"choropleth\"}], \"contour\": [{\"colorbar\": {\"outlinewidth\": 0, \"ticks\": \"\"}, \"colorscale\": [[0.0, \"#0d0887\"], [0.1111111111111111, \"#46039f\"], [0.2222222222222222, \"#7201a8\"], [0.3333333333333333, \"#9c179e\"], [0.4444444444444444, \"#bd3786\"], [0.5555555555555556, \"#d8576b\"], [0.6666666666666666, \"#ed7953\"], [0.7777777777777778, \"#fb9f3a\"], [0.8888888888888888, \"#fdca26\"], [1.0, \"#f0f921\"]], \"type\": \"contour\"}], \"contourcarpet\": [{\"colorbar\": {\"outlinewidth\": 0, \"ticks\": \"\"}, \"type\": \"contourcarpet\"}], \"heatmap\": [{\"colorbar\": {\"outlinewidth\": 0, \"ticks\": \"\"}, \"colorscale\": [[0.0, \"#0d0887\"], [0.1111111111111111, \"#46039f\"], [0.2222222222222222, \"#7201a8\"], [0.3333333333333333, \"#9c179e\"], [0.4444444444444444, \"#bd3786\"], [0.5555555555555556, \"#d8576b\"], [0.6666666666666666, \"#ed7953\"], [0.7777777777777778, \"#fb9f3a\"], [0.8888888888888888, \"#fdca26\"], [1.0, \"#f0f921\"]], \"type\": \"heatmap\"}], \"heatmapgl\": [{\"colorbar\": {\"outlinewidth\": 0, \"ticks\": \"\"}, \"colorscale\": [[0.0, \"#0d0887\"], [0.1111111111111111, \"#46039f\"], [0.2222222222222222, \"#7201a8\"], [0.3333333333333333, \"#9c179e\"], [0.4444444444444444, \"#bd3786\"], [0.5555555555555556, \"#d8576b\"], [0.6666666666666666, \"#ed7953\"], [0.7777777777777778, \"#fb9f3a\"], [0.8888888888888888, \"#fdca26\"], [1.0, \"#f0f921\"]], \"type\": \"heatmapgl\"}], \"histogram\": [{\"marker\": {\"colorbar\": {\"outlinewidth\": 0, \"ticks\": \"\"}}, \"type\": \"histogram\"}], \"histogram2d\": [{\"colorbar\": {\"outlinewidth\": 0, \"ticks\": \"\"}, \"colorscale\": [[0.0, \"#0d0887\"], [0.1111111111111111, \"#46039f\"], [0.2222222222222222, \"#7201a8\"], [0.3333333333333333, \"#9c179e\"], [0.4444444444444444, \"#bd3786\"], [0.5555555555555556, \"#d8576b\"], [0.6666666666666666, \"#ed7953\"], [0.7777777777777778, \"#fb9f3a\"], [0.8888888888888888, \"#fdca26\"], [1.0, \"#f0f921\"]], \"type\": \"histogram2d\"}], \"histogram2dcontour\": [{\"colorbar\": {\"outlinewidth\": 0, \"ticks\": \"\"}, \"colorscale\": [[0.0, \"#0d0887\"], [0.1111111111111111, \"#46039f\"], [0.2222222222222222, \"#7201a8\"], [0.3333333333333333, \"#9c179e\"], [0.4444444444444444, \"#bd3786\"], [0.5555555555555556, \"#d8576b\"], [0.6666666666666666, \"#ed7953\"], [0.7777777777777778, \"#fb9f3a\"], [0.8888888888888888, \"#fdca26\"], [1.0, \"#f0f921\"]], \"type\": \"histogram2dcontour\"}], \"mesh3d\": [{\"colorbar\": {\"outlinewidth\": 0, \"ticks\": \"\"}, \"type\": \"mesh3d\"}], \"parcoords\": [{\"line\": {\"colorbar\": {\"outlinewidth\": 0, \"ticks\": \"\"}}, \"type\": \"parcoords\"}], \"pie\": [{\"automargin\": true, \"type\": \"pie\"}], \"scatter\": [{\"marker\": {\"colorbar\": {\"outlinewidth\": 0, \"ticks\": \"\"}}, \"type\": \"scatter\"}], \"scatter3d\": [{\"line\": {\"colorbar\": {\"outlinewidth\": 0, \"ticks\": \"\"}}, \"marker\": {\"colorbar\": {\"outlinewidth\": 0, \"ticks\": \"\"}}, \"type\": \"scatter3d\"}], \"scattercarpet\": [{\"marker\": {\"colorbar\": {\"outlinewidth\": 0, \"ticks\": \"\"}}, \"type\": \"scattercarpet\"}], \"scattergeo\": [{\"marker\": {\"colorbar\": {\"outlinewidth\": 0, \"ticks\": \"\"}}, \"type\": \"scattergeo\"}], \"scattergl\": [{\"marker\": {\"colorbar\": {\"outlinewidth\": 0, \"ticks\": \"\"}}, \"type\": \"scattergl\"}], \"scattermapbox\": [{\"marker\": {\"colorbar\": {\"outlinewidth\": 0, \"ticks\": \"\"}}, \"type\": \"scattermapbox\"}], \"scatterpolar\": [{\"marker\": {\"colorbar\": {\"outlinewidth\": 0, \"ticks\": \"\"}}, \"type\": \"scatterpolar\"}], \"scatterpolargl\": [{\"marker\": {\"colorbar\": {\"outlinewidth\": 0, \"ticks\": \"\"}}, \"type\": \"scatterpolargl\"}], \"scatterternary\": [{\"marker\": {\"colorbar\": {\"outlinewidth\": 0, \"ticks\": \"\"}}, \"type\": \"scatterternary\"}], \"surface\": [{\"colorbar\": {\"outlinewidth\": 0, \"ticks\": \"\"}, \"colorscale\": [[0.0, \"#0d0887\"], [0.1111111111111111, \"#46039f\"], [0.2222222222222222, \"#7201a8\"], [0.3333333333333333, \"#9c179e\"], [0.4444444444444444, \"#bd3786\"], [0.5555555555555556, \"#d8576b\"], [0.6666666666666666, \"#ed7953\"], [0.7777777777777778, \"#fb9f3a\"], [0.8888888888888888, \"#fdca26\"], [1.0, \"#f0f921\"]], \"type\": \"surface\"}], \"table\": [{\"cells\": {\"fill\": {\"color\": \"#EBF0F8\"}, \"line\": {\"color\": \"white\"}}, \"header\": {\"fill\": {\"color\": \"#C8D4E3\"}, \"line\": {\"color\": \"white\"}}, \"type\": \"table\"}]}, \"layout\": {\"annotationdefaults\": {\"arrowcolor\": \"#2a3f5f\", \"arrowhead\": 0, \"arrowwidth\": 1}, \"coloraxis\": {\"colorbar\": {\"outlinewidth\": 0, \"ticks\": \"\"}}, \"colorscale\": {\"diverging\": [[0, \"#8e0152\"], [0.1, \"#c51b7d\"], [0.2, \"#de77ae\"], [0.3, \"#f1b6da\"], [0.4, \"#fde0ef\"], [0.5, \"#f7f7f7\"], [0.6, \"#e6f5d0\"], [0.7, \"#b8e186\"], [0.8, \"#7fbc41\"], [0.9, \"#4d9221\"], [1, \"#276419\"]], \"sequential\": [[0.0, \"#0d0887\"], [0.1111111111111111, \"#46039f\"], [0.2222222222222222, \"#7201a8\"], [0.3333333333333333, \"#9c179e\"], [0.4444444444444444, \"#bd3786\"], [0.5555555555555556, \"#d8576b\"], [0.6666666666666666, \"#ed7953\"], [0.7777777777777778, \"#fb9f3a\"], [0.8888888888888888, \"#fdca26\"], [1.0, \"#f0f921\"]], \"sequentialminus\": [[0.0, \"#0d0887\"], [0.1111111111111111, \"#46039f\"], [0.2222222222222222, \"#7201a8\"], [0.3333333333333333, \"#9c179e\"], [0.4444444444444444, \"#bd3786\"], [0.5555555555555556, \"#d8576b\"], [0.6666666666666666, \"#ed7953\"], [0.7777777777777778, \"#fb9f3a\"], [0.8888888888888888, \"#fdca26\"], [1.0, \"#f0f921\"]]}, \"colorway\": [\"#636efa\", \"#EF553B\", \"#00cc96\", \"#ab63fa\", \"#FFA15A\", \"#19d3f3\", \"#FF6692\", \"#B6E880\", \"#FF97FF\", \"#FECB52\"], \"font\": {\"color\": \"#2a3f5f\"}, \"geo\": {\"bgcolor\": \"white\", \"lakecolor\": \"white\", \"landcolor\": \"#E5ECF6\", \"showlakes\": true, \"showland\": true, \"subunitcolor\": \"white\"}, \"hoverlabel\": {\"align\": \"left\"}, \"hovermode\": \"closest\", \"mapbox\": {\"style\": \"light\"}, \"paper_bgcolor\": \"white\", \"plot_bgcolor\": \"#E5ECF6\", \"polar\": {\"angularaxis\": {\"gridcolor\": \"white\", \"linecolor\": \"white\", \"ticks\": \"\"}, \"bgcolor\": \"#E5ECF6\", \"radialaxis\": {\"gridcolor\": \"white\", \"linecolor\": \"white\", \"ticks\": \"\"}}, \"scene\": {\"xaxis\": {\"backgroundcolor\": \"#E5ECF6\", \"gridcolor\": \"white\", \"gridwidth\": 2, \"linecolor\": \"white\", \"showbackground\": true, \"ticks\": \"\", \"zerolinecolor\": \"white\"}, \"yaxis\": {\"backgroundcolor\": \"#E5ECF6\", \"gridcolor\": \"white\", \"gridwidth\": 2, \"linecolor\": \"white\", \"showbackground\": true, \"ticks\": \"\", \"zerolinecolor\": \"white\"}, \"zaxis\": {\"backgroundcolor\": \"#E5ECF6\", \"gridcolor\": \"white\", \"gridwidth\": 2, \"linecolor\": \"white\", \"showbackground\": true, \"ticks\": \"\", \"zerolinecolor\": \"white\"}}, \"shapedefaults\": {\"line\": {\"color\": \"#2a3f5f\"}}, \"ternary\": {\"aaxis\": {\"gridcolor\": \"white\", \"linecolor\": \"white\", \"ticks\": \"\"}, \"baxis\": {\"gridcolor\": \"white\", \"linecolor\": \"white\", \"ticks\": \"\"}, \"bgcolor\": \"#E5ECF6\", \"caxis\": {\"gridcolor\": \"white\", \"linecolor\": \"white\", \"ticks\": \"\"}}, \"title\": {\"x\": 0.05}, \"xaxis\": {\"automargin\": true, \"gridcolor\": \"white\", \"linecolor\": \"white\", \"ticks\": \"\", \"title\": {\"standoff\": 15}, \"zerolinecolor\": \"white\", \"zerolinewidth\": 2}, \"yaxis\": {\"automargin\": true, \"gridcolor\": \"white\", \"linecolor\": \"white\", \"ticks\": \"\", \"title\": {\"standoff\": 15}, \"zerolinecolor\": \"white\", \"zerolinewidth\": 2}}}, \"title\": {\"text\": \"Loss\"}, \"xaxis\": {\"title\": {\"text\": \"Epoch\"}}, \"yaxis\": {\"title\": {\"text\": \"percentage\"}}},\n",
              "                        {\"responsive\": true}\n",
              "                    ).then(function(){\n",
              "                            \n",
              "var gd = document.getElementById('940b9660-501a-407a-b931-9b0de43629ba');\n",
              "var x = new MutationObserver(function (mutations, observer) {{\n",
              "        var display = window.getComputedStyle(gd).display;\n",
              "        if (!display || display === 'none') {{\n",
              "            console.log([gd, 'removed!']);\n",
              "            Plotly.purge(gd);\n",
              "            observer.disconnect();\n",
              "        }}\n",
              "}});\n",
              "\n",
              "// Listen for the removal of the full notebook cells\n",
              "var notebookContainer = gd.closest('#notebook-container');\n",
              "if (notebookContainer) {{\n",
              "    x.observe(notebookContainer, {childList: true});\n",
              "}}\n",
              "\n",
              "// Listen for the clearing of the current output cell\n",
              "var outputEl = gd.closest('.output');\n",
              "if (outputEl) {{\n",
              "    x.observe(outputEl, {childList: true});\n",
              "}}\n",
              "\n",
              "                        })\n",
              "                };\n",
              "                \n",
              "            </script>\n",
              "        </div>\n",
              "</body>\n",
              "</html>"
            ]
          },
          "metadata": {
            "tags": []
          }
        }
      ]
    },
    {
      "cell_type": "code",
      "metadata": {
        "id": "ax9yA38tpFni"
      },
      "source": [
        "dnn_model.save('my_model.h5') "
      ],
      "execution_count": null,
      "outputs": []
    },
    {
      "cell_type": "code",
      "metadata": {
        "id": "L2ZuKCc5pmhQ"
      },
      "source": [
        "dnn_model = tf.keras.models.load_model('my_model.h5')"
      ],
      "execution_count": null,
      "outputs": []
    },
    {
      "cell_type": "code",
      "metadata": {
        "id": "aGm6LuCBqUGb"
      },
      "source": [
        "Test_predictions = dnn_model.predict(Test_data.astype('int32'))\n",
        "for p in Test_predictions:\n",
        "  print(p)\n"
      ],
      "execution_count": null,
      "outputs": []
    },
    {
      "cell_type": "code",
      "metadata": {
        "id": "dKHLIPflwHDa",
        "outputId": "40178781-41bb-4214-a810-6d81c08dfda9",
        "colab": {
          "base_uri": "https://localhost:8080/",
          "height": 1000
        }
      },
      "source": [
        "Test_predictions.astype('int32')\n",
        "print(re.sub(r' *\\n *', '\\n', np.array_str(Test_predictions.astype('int32')).replace('[', '').replace(']', '').strip()))"
      ],
      "execution_count": null,
      "outputs": [
        {
          "output_type": "stream",
          "text": [
            "570\n",
            "527\n",
            "528\n",
            "550\n",
            "511\n",
            "504\n",
            "485\n",
            "387\n",
            "448\n",
            "366\n",
            "392\n",
            "416\n",
            "404\n",
            "409\n",
            "414\n",
            "456\n",
            "511\n",
            "380\n",
            "330\n",
            "408\n",
            "385\n",
            "463\n",
            "280\n",
            "338\n",
            "253\n",
            "301\n",
            "233\n",
            "276\n",
            "260\n",
            "300\n",
            "233\n",
            "321\n",
            "290\n",
            "211\n",
            "189\n",
            "137\n",
            "131\n",
            "139\n",
            "187\n",
            "89\n",
            "104\n",
            "137\n",
            "132\n",
            "68\n",
            "87\n",
            "130\n",
            "50\n",
            "50\n",
            "66\n",
            "91\n",
            "84\n",
            "52\n",
            "62\n",
            "75\n",
            "61\n",
            "77\n",
            "78\n",
            "61\n",
            "67\n",
            "39\n",
            "41\n",
            "57\n",
            "53\n",
            "36\n",
            "39\n",
            "51\n",
            "34\n",
            "45\n",
            "43\n",
            "34\n",
            "18\n",
            "54\n",
            "35\n",
            "20\n",
            "30\n",
            "45\n",
            "37\n",
            "33\n",
            "8\n",
            "19\n",
            "6\n",
            "46\n",
            "31\n",
            "14\n",
            "22\n",
            "15\n",
            "33\n",
            "15\n",
            "38\n",
            "61\n",
            "15\n",
            "10\n",
            "26\n",
            "12\n",
            "13\n",
            "33\n",
            "137\n",
            "27\n",
            "22\n",
            "17\n"
          ],
          "name": "stdout"
        }
      ]
    },
    {
      "cell_type": "code",
      "metadata": {
        "id": "OdO4OdOfYci4",
        "outputId": "b5f268fe-630d-4a78-df55-d344e7cc8ab4",
        "colab": {
          "base_uri": "https://localhost:8080/",
          "height": 1000
        }
      },
      "source": [
        "import re\n",
        "print(re.sub(r' *\\n *', '\\n', np.array_str(np.c_[Test_Player.astype('str')]).replace('[', '').replace(']', '').strip()))"
      ],
      "execution_count": null,
      "outputs": [
        {
          "output_type": "stream",
          "text": [
            "'David Warner'\n",
            "'KL\\xa0Rahul'\n",
            "'Quinton\\xa0de Kock'\n",
            "'Shikhar\\xa0Dhawan'\n",
            "'Andre\\xa0Russell'\n",
            "'Chris\\xa0Gayle'\n",
            "'Rishabh\\xa0Pant'\n",
            "'Virat\\xa0Kohli'\n",
            "'Shreyas\\xa0Iyer'\n",
            "'Jonny\\xa0Bairstow'\n",
            "'AB\\xa0de Villiers'\n",
            "'Suryakumar\\xa0Yadav'\n",
            "'MS\\xa0Dhoni'\n",
            "'Chris\\xa0Lynn'\n",
            "'Rohit\\xa0Sharma'\n",
            "'Hardik\\xa0Pandya'\n",
            "'Shane\\xa0Watson'\n",
            "'Faf\\xa0du Plessis'\n",
            "'Ajinkya\\xa0Rahane'\n",
            "'Suresh\\xa0Raina'\n",
            "'Parthiv\\xa0Patel'\n",
            "'Prithvi\\xa0Shaw'\n",
            "'Manish\\xa0Pandey'\n",
            "'Nitish\\xa0Rana'\n",
            "'Sanju\\xa0Samson'\n",
            "'Mayank\\xa0Agarwal'\n",
            "'Steve\\xa0Smith'\n",
            "'Jos\\xa0Buttler'\n",
            "'Shubman\\xa0Gill'\n",
            "'Ambati\\xa0Rayudu'\n",
            "'Robin\\xa0Uthappa'\n",
            "'Kieron\\xa0Pollard'\n",
            "'Dinesh\\xa0Karthik'\n",
            "'Vijay\\xa0Shankar'\n",
            "'Moeen\\xa0Ali'\n",
            "'David\\xa0Miller'\n",
            "'Marcus\\xa0Stoinis'\n",
            "'Colin\\xa0Ingram'\n",
            "'Krunal\\xa0Pandya'\n",
            "'Sarfaraz\\xa0Khan'\n",
            "'Nicholas\\xa0Pooran'\n",
            "'Mandeep\\xa0Singh'\n",
            "'Kedar\\xa0Jadhav'\n",
            "'Riyan\\xa0Parag'\n",
            "'Kane\\xa0Williamson'\n",
            "'Sunil\\xa0Narine'\n",
            "'Rahul\\xa0Tripathi'\n",
            "'Ben\\xa0Stokes'\n",
            "'Mohammad\\xa0Nabi'\n",
            "'Axar\\xa0Patel'\n",
            "'Ravindra\\xa0Jadeja'\n",
            "'Ishan\\xa0Kishan'\n",
            "'Yuvraj\\xa0Singh'\n",
            "'Gurkeerat\\xa0Mann Singh'\n",
            "'Sam\\xa0Curran'\n",
            "'Shimron\\xa0Hetmyer'\n",
            "'Wriddhiman\\xa0Saha'\n",
            "'Colin\\xa0Munro'\n",
            "'Martin\\xa0Guptill'\n",
            "'Dwayne\\xa0Bravo'\n",
            "'Sherfane\\xa0Rutherford'\n",
            "'Liam\\xa0Livingstone'\n",
            "'Stuart\\xa0Binny'\n",
            "'Jofra\\xa0Archer'\n",
            "'Deepak\\xa0Hooda'\n",
            "'Murali\\xa0Vijay'\n",
            "'Shreyas\\xa0Gopal'\n",
            "'Akshdeep\\xa0Nath'\n",
            "'Evin\\xa0Lewis'\n",
            "'Colin\\xa0de Grandhomme'\n",
            "'Piyush\\xa0Chawla'\n",
            "'Ravichandran\\xa0Ashwin'\n",
            "'Shivam\\xa0Dube'\n",
            "'Yusuf\\xa0Pathan'\n",
            "'Rinku\\xa0Singh'\n",
            "'Rashid\\xa0Khan'\n",
            "'Chris\\xa0Morris'\n",
            "'Mitchell\\xa0Santner'\n",
            "'Rahul\\xa0Tewatia'\n",
            "'Umesh\\xa0Yadav'\n",
            "'Amit\\xa0Mishra'\n",
            "'Harpreet\\xa0Brar'\n",
            "'Prayas\\xa0Ray Barman'\n",
            "'Keemo\\xa0Paul'\n",
            "'Ben\\xa0Cutting'\n",
            "'Krishnappa\\xa0Gowtham'\n",
            "'Simran\\xa0Singh'\n",
            "'Alzarri\\xa0Joseph'\n",
            "'Siddhesh\\xa0Lad'\n",
            "'Shardul\\xa0Thakur'\n",
            "'Kagiso\\xa0Rabada'\n",
            "'Bhuvneshwar\\xa0Kumar'\n",
            "'Kuldeep\\xa0Yadav'\n",
            "'Rahul\\xa0Chahar'\n",
            "'Mitchell\\xa0McClenaghan'\n",
            "'Carlos\\xa0Brathwaite'\n",
            "'Ishant\\xa0Sharma'\n",
            "'Shakib\\xa0Al Hasan'\n",
            "'Pawan\\xa0Negi'\n",
            "'Tim\\xa0Southee'\n"
          ],
          "name": "stdout"
        }
      ]
    },
    {
      "cell_type": "code",
      "metadata": {
        "id": "Sq2SkIHByfsH",
        "outputId": "09eed39d-37d8-451c-e6f0-0ec1363a0b7f",
        "colab": {
          "base_uri": "https://localhost:8080/",
          "height": 1000
        }
      },
      "source": [
        "import re\n",
        "print(re.sub(r' *\\n *', '\\n', np.array_str(np.c_[Test_predictions.astype('int32')]).replace('[', '').replace(']', '').strip()))"
      ],
      "execution_count": null,
      "outputs": [
        {
          "output_type": "stream",
          "text": [
            "570\n",
            "527\n",
            "528\n",
            "550\n",
            "511\n",
            "504\n",
            "485\n",
            "387\n",
            "448\n",
            "366\n",
            "392\n",
            "416\n",
            "404\n",
            "409\n",
            "414\n",
            "456\n",
            "511\n",
            "380\n",
            "330\n",
            "408\n",
            "385\n",
            "463\n",
            "280\n",
            "338\n",
            "253\n",
            "301\n",
            "233\n",
            "276\n",
            "260\n",
            "300\n",
            "233\n",
            "321\n",
            "290\n",
            "211\n",
            "189\n",
            "137\n",
            "131\n",
            "139\n",
            "187\n",
            "89\n",
            "104\n",
            "137\n",
            "132\n",
            "68\n",
            "87\n",
            "130\n",
            "50\n",
            "50\n",
            "66\n",
            "91\n",
            "84\n",
            "52\n",
            "62\n",
            "75\n",
            "61\n",
            "77\n",
            "78\n",
            "61\n",
            "67\n",
            "39\n",
            "41\n",
            "57\n",
            "53\n",
            "36\n",
            "39\n",
            "51\n",
            "34\n",
            "45\n",
            "43\n",
            "34\n",
            "18\n",
            "54\n",
            "35\n",
            "20\n",
            "30\n",
            "45\n",
            "37\n",
            "33\n",
            "8\n",
            "19\n",
            "6\n",
            "46\n",
            "31\n",
            "14\n",
            "22\n",
            "15\n",
            "33\n",
            "15\n",
            "38\n",
            "61\n",
            "15\n",
            "10\n",
            "26\n",
            "12\n",
            "13\n",
            "33\n",
            "137\n",
            "27\n",
            "22\n",
            "17\n"
          ],
          "name": "stdout"
        }
      ]
    },
    {
      "cell_type": "code",
      "metadata": {
        "id": "1zMv_GERwd_c",
        "outputId": "2a479e9f-2de5-4a51-d85a-cb37ccfbf9ca",
        "colab": {
          "base_uri": "https://localhost:8080/",
          "height": 185
        }
      },
      "source": [
        "Train_Player = np.asarray(Train_Player.astype('obj'))\n",
        "Train_predictions= np.asarray(Train_predictions.astype('int32'))"
      ],
      "execution_count": null,
      "outputs": [
        {
          "output_type": "error",
          "ename": "TypeError",
          "evalue": "ignored",
          "traceback": [
            "\u001b[0;31m---------------------------------------------------------------------------\u001b[0m",
            "\u001b[0;31mTypeError\u001b[0m                                 Traceback (most recent call last)",
            "\u001b[0;32m<ipython-input-72-40da735abdbb>\u001b[0m in \u001b[0;36m<module>\u001b[0;34m()\u001b[0m\n\u001b[0;32m----> 1\u001b[0;31m \u001b[0mTrain_Player\u001b[0m \u001b[0;34m=\u001b[0m \u001b[0mnp\u001b[0m\u001b[0;34m.\u001b[0m\u001b[0masarray\u001b[0m\u001b[0;34m(\u001b[0m\u001b[0mTrain_Player\u001b[0m\u001b[0;34m.\u001b[0m\u001b[0mastype\u001b[0m\u001b[0;34m(\u001b[0m\u001b[0;34m'obj'\u001b[0m\u001b[0;34m)\u001b[0m\u001b[0;34m)\u001b[0m\u001b[0;34m\u001b[0m\u001b[0;34m\u001b[0m\u001b[0m\n\u001b[0m\u001b[1;32m      2\u001b[0m \u001b[0mTrain_predictions\u001b[0m\u001b[0;34m=\u001b[0m \u001b[0mnp\u001b[0m\u001b[0;34m.\u001b[0m\u001b[0masarray\u001b[0m\u001b[0;34m(\u001b[0m\u001b[0mTrain_predictions\u001b[0m\u001b[0;34m.\u001b[0m\u001b[0mastype\u001b[0m\u001b[0;34m(\u001b[0m\u001b[0;34m'int32'\u001b[0m\u001b[0;34m)\u001b[0m\u001b[0;34m)\u001b[0m\u001b[0;34m\u001b[0m\u001b[0;34m\u001b[0m\u001b[0m\n",
            "\u001b[0;31mTypeError\u001b[0m: data type \"obj\" not understood"
          ]
        }
      ]
    }
  ]
}